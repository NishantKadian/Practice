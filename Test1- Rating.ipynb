{
 "cells": [
  {
   "cell_type": "code",
   "execution_count": 1,
   "metadata": {},
   "outputs": [],
   "source": [
    "# import libraries\n",
    "from bs4 import BeautifulSoup\n",
    "import numpy as np\n",
    "from time import sleep\n",
    "from random import randint\n",
    "import pandas as pd\n",
    "from selenium import webdriver\n",
    "import time\n",
    "import string"
   ]
  },
  {
   "cell_type": "code",
   "execution_count": 2,
   "metadata": {},
   "outputs": [],
   "source": [
    "# Loading Driver\n",
    "driver = webdriver.Chrome(r\"C:\\Users\\thunderbolt\\sof\\chromedriver.exe\")\n",
    "\n",
    "# Give name of website we have to scrap\n",
    "url=\"https://www.amazon.in/s?k=Laptop&i=computers&rh=n%3A1375424031%2Cp_n_feature_thirteen_browse-bin%3A12598163031%7C16757432031&dc&qid=1604479628&rnid=12598141031&ref=sr_nr_p_n_feature_thirteen_browse-bin_16\"\n",
    "\n",
    "driver.get(url)\n",
    "\n",
    "Rating = []"
   ]
  },
  {
   "cell_type": "code",
   "execution_count": 3,
   "metadata": {},
   "outputs": [
    {
     "data": {
      "text/plain": [
       "[<selenium.webdriver.remote.webelement.WebElement (session=\"78ad94749d50ecd4eec791f52ef8364b\", element=\"f91a74a1-1210-443d-80e7-073c2f1c379c\")>,\n",
       " <selenium.webdriver.remote.webelement.WebElement (session=\"78ad94749d50ecd4eec791f52ef8364b\", element=\"e97f3058-b5d9-49d8-bafb-17e2e09e0b27\")>,\n",
       " <selenium.webdriver.remote.webelement.WebElement (session=\"78ad94749d50ecd4eec791f52ef8364b\", element=\"4f601751-4b00-48c8-aa06-e703a8bd7cfc\")>,\n",
       " <selenium.webdriver.remote.webelement.WebElement (session=\"78ad94749d50ecd4eec791f52ef8364b\", element=\"b34a947f-5b71-4feb-af0b-46049bb58fc2\")>,\n",
       " <selenium.webdriver.remote.webelement.WebElement (session=\"78ad94749d50ecd4eec791f52ef8364b\", element=\"0eb4a3eb-c861-4440-a17d-2c5c26bd852f\")>]"
      ]
     },
     "execution_count": 3,
     "metadata": {},
     "output_type": "execute_result"
    }
   ],
   "source": [
    "Task8 = driver.find_elements_by_xpath(\"//span[@class='a-icon-alt']\")\n",
    "Task8 [0:5]"
   ]
  },
  {
   "cell_type": "code",
   "execution_count": 5,
   "metadata": {},
   "outputs": [
    {
     "data": {
      "text/plain": [
       "['',\n",
       " '',\n",
       " '',\n",
       " '',\n",
       " '',\n",
       " '',\n",
       " '',\n",
       " '',\n",
       " '',\n",
       " '',\n",
       " '',\n",
       " '',\n",
       " '',\n",
       " '',\n",
       " '',\n",
       " '',\n",
       " '',\n",
       " '',\n",
       " '',\n",
       " '',\n",
       " '',\n",
       " '',\n",
       " '',\n",
       " '',\n",
       " '',\n",
       " '',\n",
       " '',\n",
       " '',\n",
       " '',\n",
       " '',\n",
       " '',\n",
       " '',\n",
       " '',\n",
       " '',\n",
       " '',\n",
       " '',\n",
       " '',\n",
       " '',\n",
       " '',\n",
       " '',\n",
       " '',\n",
       " '',\n",
       " '',\n",
       " '',\n",
       " '',\n",
       " '']"
      ]
     },
     "execution_count": 5,
     "metadata": {},
     "output_type": "execute_result"
    }
   ],
   "source": [
    "for piu in Task8:\n",
    "    gf=piu.text\n",
    "    Rating.append(gf)\n",
    "Rating"
   ]
  },
  {
   "cell_type": "code",
   "execution_count": null,
   "metadata": {},
   "outputs": [],
   "source": []
  }
 ],
 "metadata": {
  "kernelspec": {
   "display_name": "Python 3",
   "language": "python",
   "name": "python3"
  },
  "language_info": {
   "codemirror_mode": {
    "name": "ipython",
    "version": 3
   },
   "file_extension": ".py",
   "mimetype": "text/x-python",
   "name": "python",
   "nbconvert_exporter": "python",
   "pygments_lexer": "ipython3",
   "version": "3.7.6"
  }
 },
 "nbformat": 4,
 "nbformat_minor": 4
}
